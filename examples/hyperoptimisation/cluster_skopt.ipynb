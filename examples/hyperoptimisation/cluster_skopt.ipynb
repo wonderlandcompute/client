{
 "cells": [
  {
   "cell_type": "code",
   "execution_count": 1,
   "metadata": {},
   "outputs": [
    {
     "name": "stderr",
     "output_type": "stream",
     "text": [
      "/home/igor/anaconda3/envs/yadro/lib/python3.6/importlib/_bootstrap.py:219: RuntimeWarning: compiletime version 3.4 of module '_catboost' does not match runtime version 3.6\n",
      "  return f(*args, **kwds)\n"
     ]
    }
   ],
   "source": [
    "from modelgym.models import CtBClassifier, LGBMClassifier\n",
    "from modelgym.utils import XYCDataset\n",
    "from modelgym.trainers import TpeTrainer\n",
    "from modelgym.metrics import Accuracy\n",
    "from modelgym.report import Report\n",
    "from modelgym.utils import ModelSpace\n",
    "from hyperopt import hp\n",
    "from pathlib import Path\n",
    "import numpy as np\n",
    "from wonderlandClient import ModelGymClient\n",
    "from skopt.space import Integer, Categorical, Real\n",
    "from modelgym.trainers import TpeTrainer, GPTrainer, RFTrainer, RandomTrainer\n",
    "from modelgym.metrics import Accuracy, RocAuc, F1\n",
    "import math\n"
   ]
  },
  {
   "cell_type": "markdown",
   "metadata": {},
   "source": [
    "## ModelGymClient \n",
    "\n",
    "ModelGymClient connects to the wonderland server during initialization. By default it uses config file \"~/.wonder/config.yaml\", but you can specify your own config.\n"
   ]
  },
  {
   "cell_type": "code",
   "execution_count": 2,
   "metadata": {},
   "outputs": [
    {
     "name": "stdout",
     "output_type": "stream",
     "text": [
      "connect_to: lambda-yadro-cpu1.westeurope.cloudapp.azure.com:50051\n",
      "local_project_root: ~/repo-storage/test\n",
      "user: imusinov\n",
      "azurefs_acc_name: mylake\n",
      "azurefs_acc_key: nTYA+KhHEIuy2DVyG8uGuNev3qKGJ8Qm975hCkMgm+hGc7AW17RhnygFTKSNho5Iu8s3zwYcqxgrmte0tROBog==\n",
      "azurefs_share: myshare\n",
      "client_cert: ~/.wonder/credentials/imusinov.crt\n",
      "client_key: ~/.wonder/credentials/imusinov.key\n",
      "ca_cert: ~/.wonder/credentials/wonderland.crt\n",
      "max_msg_size_megabytes: 515\n"
     ]
    }
   ],
   "source": [
    "client = ModelGymClient()\n",
    "for param, val in client.config.items():\n",
    "        print(param+\":\", val)"
   ]
  },
  {
   "cell_type": "markdown",
   "metadata": {},
   "source": [
    "## Prepare data\n",
    "\n",
    "Data have to be in format *.csv, a target column have to be called 'y'"
   ]
  },
  {
   "cell_type": "code",
   "execution_count": 3,
   "metadata": {},
   "outputs": [],
   "source": [
    "#standard sample\n",
    "from sklearn.datasets import load_breast_cancer\n",
    "import pandas as pd\n",
    "\n",
    "data = load_breast_cancer()\n",
    "y = pd.DataFrame(data=data.target, columns=[\"y\"])                 \n",
    "X = pd.DataFrame(data=data.data)\n",
    "df = pd.concat([X, y], axis=1)"
   ]
  },
  {
   "cell_type": "markdown",
   "metadata": {},
   "source": [
    "## Hyperparamaters range\n",
    "\n",
    "You don't have to specify all parameters, but then you have to be sure that they have right default values"
   ]
  },
  {
   "cell_type": "code",
   "execution_count": 19,
   "metadata": {},
   "outputs": [],
   "source": [
    "#Catboost model space \n",
    "catboost_space = [Integer(low=100, high=500, name='iterations'),\n",
    " Integer(low=1, high=11, name='depth'),\n",
    " Real(low=math.exp(-5), high=1e-1, prior='log-uniform', name='learning_rate'),\n",
    " Real(low=0, high=1, prior='uniform', transform='identity', name='rsm'),\n",
    " Categorical(categories=('Newton', 'Gradient'), prior=None, name='leaf_estimation_method'),\n",
    " Integer(low=1, high=10, name='l2_leaf_reg'),\n",
    " Real(low=0, high=2, prior='uniform', transform='identity', name='bagging_temperature')]\n",
    "\n",
    "model_ctb = ModelSpace(CtBClassifier,\n",
    "                   space=catboost_space,\n",
    "                   space_update=False)"
   ]
  },
  {
   "cell_type": "code",
   "execution_count": 20,
   "metadata": {},
   "outputs": [],
   "source": [
    "#Lightgbm model space\n",
    "lgbm_space = [Real(low=math.exp(-7), high=1, prior='log-uniform', name='learning_rate'),\n",
    "                 Integer(low=round(math.exp(1)), high=round(math.exp(7)), name='num_leaves'),\n",
    "                 Real(low=0.5, high=1, name='feature_fraction'),\n",
    "                 Real(low=0.5, high=1, name='bagging_fraction'),\n",
    "                 Integer(low=1, high=round(math.exp(6)), name='min_data_in_leaf'),\n",
    "                 Real(low=math.exp(-16), high=math.exp(5), prior='log-uniform', name='min_sum_hessian_in_leaf'),\n",
    "                 Real(low=math.exp(-16), high=math.exp(2), prior='log-uniform', name='lambda_l1'),\n",
    "                 Real(low=math.exp(-16), high=math.exp(2), prior='log-uniform', name='lambda_l2')]\n",
    "\n",
    "model_lgbm = ModelSpace(LGBMClassifier,\n",
    "                   space=lgbm_space,\n",
    "                   space_update=False)"
   ]
  },
  {
   "cell_type": "code",
   "execution_count": 21,
   "metadata": {},
   "outputs": [],
   "source": [
    "#trainer with optimization algorithm GP\n",
    "trainer = GPTrainer(model_lgbm)"
   ]
  },
  {
   "cell_type": "markdown",
   "metadata": {},
   "source": [
    "## Training\n",
    "\n"
   ]
  },
  {
   "cell_type": "code",
   "execution_count": 22,
   "metadata": {},
   "outputs": [
    {
     "ename": "ValueError",
     "evalue": "Dataset doesn't have 'y' column",
     "output_type": "error",
     "traceback": [
      "\u001b[0;31m---------------------------------------------------------------------------\u001b[0m",
      "\u001b[0;31mValueError\u001b[0m                                Traceback (most recent call last)",
      "\u001b[0;32m<ipython-input-22-4ae3875f2245>\u001b[0m in \u001b[0;36m<module>\u001b[0;34m()\u001b[0m\n\u001b[1;32m      6\u001b[0m                                         \u001b[0mworkers\u001b[0m\u001b[0;34m=\u001b[0m\u001b[0;36m1\u001b[0m\u001b[0;34m,\u001b[0m          \u001b[0;31m#number of parallel jobs on the same iteration\u001b[0m\u001b[0;34m\u001b[0m\u001b[0m\n\u001b[1;32m      7\u001b[0m                                         \u001b[0mclient\u001b[0m\u001b[0;34m=\u001b[0m\u001b[0mclient\u001b[0m\u001b[0;34m,\u001b[0m      \u001b[0;31m#only for cluster optimization\u001b[0m\u001b[0;34m\u001b[0m\u001b[0m\n\u001b[0;32m----> 8\u001b[0;31m                                         timeout=400)        #timeout for 1 job \n\u001b[0m",
      "\u001b[0;32m~/modelgym/modelgym/trainers/skopt_trainer.py\u001b[0m in \u001b[0;36mcrossval_optimize_params\u001b[0;34m(self, opt_metric, dataset, cv, opt_evals, metrics, verbose, client, workers, timeout, **kwargs)\u001b[0m\n\u001b[1;32m     71\u001b[0m         \u001b[0;32mif\u001b[0m \u001b[0misinstance\u001b[0m\u001b[0;34m(\u001b[0m\u001b[0mdataset\u001b[0m\u001b[0;34m,\u001b[0m \u001b[0mDataFrame\u001b[0m\u001b[0;34m)\u001b[0m\u001b[0;34m:\u001b[0m\u001b[0;34m\u001b[0m\u001b[0m\n\u001b[1;32m     72\u001b[0m             \u001b[0;32mif\u001b[0m \u001b[0mdataset\u001b[0m\u001b[0;34m.\u001b[0m\u001b[0misnull\u001b[0m\u001b[0;34m(\u001b[0m\u001b[0;34m)\u001b[0m\u001b[0;34m.\u001b[0m\u001b[0mvalues\u001b[0m\u001b[0;34m.\u001b[0m\u001b[0many\u001b[0m\u001b[0;34m(\u001b[0m\u001b[0;34m)\u001b[0m\u001b[0;34m:\u001b[0m \u001b[0;32mraise\u001b[0m \u001b[0mValueError\u001b[0m\u001b[0;34m(\u001b[0m\u001b[0;34m\"Dataset has NA values\"\u001b[0m\u001b[0;34m)\u001b[0m\u001b[0;34m\u001b[0m\u001b[0m\n\u001b[0;32m---> 73\u001b[0;31m             \u001b[0;32mif\u001b[0m \u001b[0;34m\"y\"\u001b[0m \u001b[0;32mnot\u001b[0m \u001b[0;32min\u001b[0m \u001b[0mlist\u001b[0m\u001b[0;34m(\u001b[0m\u001b[0mdataset\u001b[0m\u001b[0;34m.\u001b[0m\u001b[0mcolumns\u001b[0m\u001b[0;34m)\u001b[0m\u001b[0;34m:\u001b[0m \u001b[0;32mraise\u001b[0m \u001b[0mValueError\u001b[0m\u001b[0;34m(\u001b[0m\u001b[0;34m\"Dataset doesn't have 'y' column\"\u001b[0m\u001b[0;34m)\u001b[0m\u001b[0;34m\u001b[0m\u001b[0m\n\u001b[0m\u001b[1;32m     74\u001b[0m         \u001b[0;32melse\u001b[0m\u001b[0;34m:\u001b[0m\u001b[0;34m\u001b[0m\u001b[0m\n\u001b[1;32m     75\u001b[0m             \u001b[0mValueError\u001b[0m\u001b[0;34m(\u001b[0m\u001b[0;34m\"Dataset should be DataFrame or path to the DataFrame\"\u001b[0m\u001b[0;34m)\u001b[0m\u001b[0;34m\u001b[0m\u001b[0m\n",
      "\u001b[0;31mValueError\u001b[0m: Dataset doesn't have 'y' column"
     ]
    }
   ],
   "source": [
    "best = trainer.crossval_optimize_params(opt_metric=RocAuc(),          #optimizing metrics \n",
    "                                        dataset=df,   #data or path to the data \n",
    "                                        cv=3, \n",
    "                                        opt_evals=5,        #number of optimization iterations\n",
    "                                        metrics=[RocAuc()], #all calculated metrics\n",
    "                                        workers=1,          #number of parallel jobs on the same iteration\n",
    "                                        client=client,      #only for cluster optimization \n",
    "                                        timeout=400)        #timeout for 1 job "
   ]
  },
  {
   "cell_type": "code",
   "execution_count": 9,
   "metadata": {
    "scrolled": true
   },
   "outputs": [
    {
     "name": "stdout",
     "output_type": "stream",
     "text": [
      "{'LGBMClassifier': {'result': {'output': {'loss': -0.9115528132916405, 'metric_cv_results': [{'roc_auc': 0.8935816428333888}, {'roc_auc': 0.9225517890772127}, {'roc_auc': 0.9185250079643198}], 'params': {'learning_rate': 0.12544100545133802, 'num_leaves': 453, 'feature_fraction': 0.5604591957913877, 'bagging_fraction': 0.700983639133073, 'min_data_in_leaf': 169, 'min_sum_hessian_in_leaf': 10.38977065214724, 'lambda_l1': 6.438433262746808, 'lambda_l2': 0.009275802375336071}, 'status': 'ok', 'loss_variance': 0.012813429602372648}, 'result_model_path': PosixPath('/home/igor/repo-storage/test/imusinov/model-AFSoUsYC9JW6/model.pickle')}, 'model_space': <modelgym.utils.model_space.ModelSpace object at 0x7f6ab932c6a0>}}\n"
     ]
    }
   ],
   "source": [
    "print(trainer.get_best_results())"
   ]
  },
  {
   "cell_type": "code",
   "execution_count": 10,
   "metadata": {},
   "outputs": [
    {
     "data": {
      "text/plain": [
       "<modelgym.models.lightgbm_model.LGBMClassifier at 0x7f6ababb5cf8>"
      ]
     },
     "execution_count": 10,
     "metadata": {},
     "output_type": "execute_result"
    }
   ],
   "source": [
    "best_model = trainer.get_best_model()\n",
    "best_model"
   ]
  },
  {
   "cell_type": "code",
   "execution_count": null,
   "metadata": {},
   "outputs": [],
   "source": []
  },
  {
   "cell_type": "code",
   "execution_count": null,
   "metadata": {},
   "outputs": [],
   "source": []
  }
 ],
 "metadata": {
  "kernelspec": {
   "display_name": "Python 3",
   "language": "python",
   "name": "python3"
  },
  "language_info": {
   "codemirror_mode": {
    "name": "ipython",
    "version": 3
   },
   "file_extension": ".py",
   "mimetype": "text/x-python",
   "name": "python",
   "nbconvert_exporter": "python",
   "pygments_lexer": "ipython3",
   "version": "3.6.4"
  }
 },
 "nbformat": 4,
 "nbformat_minor": 2
}
