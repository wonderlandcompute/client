{
 "cells": [
  {
   "cell_type": "code",
   "execution_count": 1,
   "metadata": {},
   "outputs": [
    {
     "name": "stderr",
     "output_type": "stream",
     "text": [
      "/home/igor/anaconda3/envs/yadro/lib/python3.6/importlib/_bootstrap.py:219: RuntimeWarning: compiletime version 3.4 of module '_catboost' does not match runtime version 3.6\n",
      "  return f(*args, **kwds)\n"
     ]
    }
   ],
   "source": [
    "from modelgym.models import CtBClassifier, LGBMClassifier\n",
    "from modelgym.utils import XYCDataset\n",
    "from modelgym.trainers import TpeTrainer\n",
    "from modelgym.metrics import Accuracy\n",
    "from modelgym.report import Report\n",
    "from modelgym.utils import ModelSpace\n",
    "from hyperopt import hp\n",
    "import numpy as np\n",
    "from sklearn.datasets import load_breast_cancer\n",
    "from pathlib import Path\n",
    "from wonderlandClient import ModelGymClient\n",
    "from skopt.space import Integer, Categorical, Real\n",
    "from modelgym.trainers import TpeTrainer, GPTrainer, RFTrainer, RandomTrainer\n",
    "from modelgym.metrics import Accuracy, RocAuc, F1\n",
    "import math\n"
   ]
  },
  {
   "cell_type": "code",
   "execution_count": 2,
   "metadata": {},
   "outputs": [
    {
     "name": "stdout",
     "output_type": "stream",
     "text": [
      "connect_to: lambda-yadro-cpu1.westeurope.cloudapp.azure.com:50051\n",
      "local_project_root: ~/repo-storage/test\n",
      "user: imusinov\n",
      "azurefs_acc_name: mylake\n",
      "azurefs_acc_key: nTYA+KhHEIuy2DVyG8uGuNev3qKGJ8Qm975hCkMgm+hGc7AW17RhnygFTKSNho5Iu8s3zwYcqxgrmte0tROBog==\n",
      "azurefs_share: myshare\n",
      "docker_image: musinov/training-image\n",
      "client_cert: ~/.wonder/credentials/imusinov.crt\n",
      "client_key: ~/.wonder/credentials/imusinov.key\n",
      "ca_cert: ~/.wonder/credentials/wonderland.crt\n",
      "max_msg_size_megabytes: 515\n"
     ]
    }
   ],
   "source": [
    "client = ModelGymClient()\n",
    "for param, val in client.config.items():\n",
    "        print(param+\":\", val)"
   ]
  },
  {
   "cell_type": "code",
   "execution_count": 3,
   "metadata": {},
   "outputs": [
    {
     "data": {
      "text/plain": [
       "<modelgym.utils.dataset.XYCDataset at 0x7f2718707fd0>"
      ]
     },
     "execution_count": 3,
     "metadata": {},
     "output_type": "execute_result"
    }
   ],
   "source": [
    "from wonderlandClient import generate_data\n",
    "tmp_file_path = Path(\"~/repo-storage-test/test/DATA/temp_data_145earu.csv\").expanduser()\n",
    "generate_data(tmp_file_path)"
   ]
  },
  {
   "cell_type": "code",
   "execution_count": 4,
   "metadata": {},
   "outputs": [],
   "source": [
    "data = load_breast_cancer()\n",
    "y = np.array([data.target])\n",
    "dataset = np.concatenate((data.data, y.T), axis=1)\n",
    "n_features = len(data.data[0])\n",
    "file = Path(\"~/repo-storage/test/DATA/temp_data_145earu.csv\").expanduser()\n",
    "np.savetxt(file, dataset,\n",
    "           fmt='%.2f',\n",
    "           header=','.join([str(x) for x in range(n_features)] + ['y']),\n",
    "           delimiter=',')"
   ]
  },
  {
   "cell_type": "code",
   "execution_count": 5,
   "metadata": {},
   "outputs": [],
   "source": [
    "catboost_space = [Integer(low=100, high=500, name='iterations'),\n",
    " Integer(low=1, high=11, name='depth'),\n",
    " Real(low=math.exp(-5), high=1e-1, prior='log-uniform', name='learning_rate'),\n",
    " Real(low=0, high=1, prior='uniform', transform='identity', name='rsm'),\n",
    " Categorical(categories=('Newton', 'Gradient'), prior=None, name='leaf_estimation_method'),\n",
    " Integer(low=1, high=10, name='l2_leaf_reg'),\n",
    " Real(low=0, high=2, prior='uniform', transform='identity', name='bagging_temperature')]\n",
    "\n",
    "model_ctb = ModelSpace(CtBClassifier,\n",
    "                   space=catboost_space,\n",
    "                   space_update=False)"
   ]
  },
  {
   "cell_type": "code",
   "execution_count": 15,
   "metadata": {},
   "outputs": [],
   "source": [
    "lgbm_space = [Real(low=math.exp(-7), high=1, prior='log-uniform', name='learning_rate'),\n",
    "                 Integer(low=round(math.exp(1)), high=round(math.exp(7)), name='num_leaves'),\n",
    "                 Real(low=0.5, high=1, name='feature_fraction'),\n",
    "                 Real(low=0.5, high=1, name='bagging_fraction'),\n",
    "                 Integer(low=1, high=round(math.exp(6)), name='min_data_in_leaf'),\n",
    "                 Real(low=math.exp(-16), high=math.exp(5), prior='log-uniform', name='min_sum_hessian_in_leaf'),\n",
    "                 Real(low=math.exp(-16), high=math.exp(2), prior='log-uniform', name='lambda_l1'),\n",
    "                 Real(low=math.exp(-16), high=math.exp(2), prior='log-uniform', name='lambda_l2')]\n",
    "\n",
    "model_lgbm = ModelSpace(LGBMClassifier,\n",
    "                   space=lgbm_space,\n",
    "                   space_update=False)\n",
    "trainer = GPTrainer(model_ctb)"
   ]
  },
  {
   "cell_type": "code",
   "execution_count": 22,
   "metadata": {},
   "outputs": [
    {
     "data": {
      "application/vnd.jupyter.widget-view+json": {
       "model_id": "9ddbd049ca9045288bafff9321c84670",
       "version_major": 2,
       "version_minor": 0
      },
      "text/plain": [
       "VBox(children=(HTML(value=''), IntProgress(value=0, max=1)))"
      ]
     },
     "metadata": {},
     "output_type": "display_data"
    }
   ],
   "source": [
    "best = trainer.crossval_optimize_params(RocAuc(), tmp_file_path, cv=3,\n",
    "                                        opt_evals=1, metrics=[RocAuc()],\n",
    "                                        verbose=False, workers=1, client=client, timeout=400)"
   ]
  },
  {
   "cell_type": "code",
   "execution_count": 26,
   "metadata": {},
   "outputs": [
    {
     "name": "stdout",
     "output_type": "stream",
     "text": [
      "{}\n"
     ]
    }
   ],
   "source": [
    "print(trainer.get_best_results())"
   ]
  },
  {
   "cell_type": "code",
   "execution_count": 18,
   "metadata": {},
   "outputs": [
    {
     "ename": "LightGBMError",
     "evalue": "b'Tree model string format error, should contain default_value field'",
     "output_type": "error",
     "traceback": [
      "\u001b[0;31m---------------------------------------------------------------------------\u001b[0m",
      "\u001b[0;31mLightGBMError\u001b[0m                             Traceback (most recent call last)",
      "\u001b[0;32m<ipython-input-18-9098c9f0e3e6>\u001b[0m in \u001b[0;36m<module>\u001b[0;34m()\u001b[0m\n\u001b[0;32m----> 1\u001b[0;31m \u001b[0mbest_model\u001b[0m \u001b[0;34m=\u001b[0m \u001b[0mtrainer\u001b[0m\u001b[0;34m.\u001b[0m\u001b[0mget_best_model\u001b[0m\u001b[0;34m(\u001b[0m\u001b[0;34m)\u001b[0m\u001b[0;34m\u001b[0m\u001b[0m\n\u001b[0m\u001b[1;32m      2\u001b[0m \u001b[0mbest_model\u001b[0m\u001b[0;34m\u001b[0m\u001b[0m\n",
      "\u001b[0;32m~/modelgym/modelgym/trainers/skopt_trainer.py\u001b[0m in \u001b[0;36mget_best_model\u001b[0;34m(self)\u001b[0m\n\u001b[1;32m    162\u001b[0m                 \u001b[0mbest_m_path\u001b[0m \u001b[0;34m=\u001b[0m \u001b[0mresult\u001b[0m\u001b[0;34m.\u001b[0m\u001b[0mget\u001b[0m\u001b[0;34m(\u001b[0m\u001b[0;34m\"result_model_path\"\u001b[0m\u001b[0;34m)\u001b[0m\u001b[0;34m\u001b[0m\u001b[0m\n\u001b[1;32m    163\u001b[0m         \u001b[0;32mwith\u001b[0m \u001b[0mopen\u001b[0m\u001b[0;34m(\u001b[0m\u001b[0mbest_m_path\u001b[0m\u001b[0;34m,\u001b[0m \u001b[0;34m\"rb\"\u001b[0m\u001b[0;34m)\u001b[0m \u001b[0;32mas\u001b[0m \u001b[0mf\u001b[0m\u001b[0;34m:\u001b[0m\u001b[0;34m\u001b[0m\u001b[0m\n\u001b[0;32m--> 164\u001b[0;31m             \u001b[0mbest\u001b[0m \u001b[0;34m=\u001b[0m \u001b[0mpickle\u001b[0m\u001b[0;34m.\u001b[0m\u001b[0mload\u001b[0m\u001b[0;34m(\u001b[0m\u001b[0mf\u001b[0m\u001b[0;34m)\u001b[0m\u001b[0;34m\u001b[0m\u001b[0m\n\u001b[0m\u001b[1;32m    165\u001b[0m         \u001b[0;32mreturn\u001b[0m \u001b[0mbest\u001b[0m\u001b[0;34m\u001b[0m\u001b[0m\n\u001b[1;32m    166\u001b[0m \u001b[0;34m\u001b[0m\u001b[0m\n",
      "\u001b[0;32m~/anaconda3/envs/yadro/lib/python3.6/site-packages/lightgbm/basic.py\u001b[0m in \u001b[0;36m__setstate__\u001b[0;34m(self, state)\u001b[0m\n\u001b[1;32m   1280\u001b[0m                 \u001b[0mc_str\u001b[0m\u001b[0;34m(\u001b[0m\u001b[0mmodel_str\u001b[0m\u001b[0;34m)\u001b[0m\u001b[0;34m,\u001b[0m\u001b[0;34m\u001b[0m\u001b[0m\n\u001b[1;32m   1281\u001b[0m                 \u001b[0mctypes\u001b[0m\u001b[0;34m.\u001b[0m\u001b[0mbyref\u001b[0m\u001b[0;34m(\u001b[0m\u001b[0mout_num_iterations\u001b[0m\u001b[0;34m)\u001b[0m\u001b[0;34m,\u001b[0m\u001b[0;34m\u001b[0m\u001b[0m\n\u001b[0;32m-> 1282\u001b[0;31m                 ctypes.byref(handle)))\n\u001b[0m\u001b[1;32m   1283\u001b[0m             \u001b[0mstate\u001b[0m\u001b[0;34m[\u001b[0m\u001b[0;34m'handle'\u001b[0m\u001b[0;34m]\u001b[0m \u001b[0;34m=\u001b[0m \u001b[0mhandle\u001b[0m\u001b[0;34m\u001b[0m\u001b[0m\n\u001b[1;32m   1284\u001b[0m         \u001b[0mself\u001b[0m\u001b[0;34m.\u001b[0m\u001b[0m__dict__\u001b[0m\u001b[0;34m.\u001b[0m\u001b[0mupdate\u001b[0m\u001b[0;34m(\u001b[0m\u001b[0mstate\u001b[0m\u001b[0;34m)\u001b[0m\u001b[0;34m\u001b[0m\u001b[0m\n",
      "\u001b[0;32m~/anaconda3/envs/yadro/lib/python3.6/site-packages/lightgbm/basic.py\u001b[0m in \u001b[0;36m_safe_call\u001b[0;34m(ret)\u001b[0m\n\u001b[1;32m     45\u001b[0m     \"\"\"\n\u001b[1;32m     46\u001b[0m     \u001b[0;32mif\u001b[0m \u001b[0mret\u001b[0m \u001b[0;34m!=\u001b[0m \u001b[0;36m0\u001b[0m\u001b[0;34m:\u001b[0m\u001b[0;34m\u001b[0m\u001b[0m\n\u001b[0;32m---> 47\u001b[0;31m         \u001b[0;32mraise\u001b[0m \u001b[0mLightGBMError\u001b[0m\u001b[0;34m(\u001b[0m\u001b[0m_LIB\u001b[0m\u001b[0;34m.\u001b[0m\u001b[0mLGBM_GetLastError\u001b[0m\u001b[0;34m(\u001b[0m\u001b[0;34m)\u001b[0m\u001b[0;34m)\u001b[0m\u001b[0;34m\u001b[0m\u001b[0m\n\u001b[0m\u001b[1;32m     48\u001b[0m \u001b[0;34m\u001b[0m\u001b[0m\n\u001b[1;32m     49\u001b[0m \u001b[0;34m\u001b[0m\u001b[0m\n",
      "\u001b[0;31mLightGBMError\u001b[0m: b'Tree model string format error, should contain default_value field'"
     ]
    }
   ],
   "source": [
    "best_model = trainer.get_best_model()\n",
    "best_model"
   ]
  }
 ],
 "metadata": {
  "kernelspec": {
   "display_name": "Python 3",
   "language": "python",
   "name": "python3"
  },
  "language_info": {
   "codemirror_mode": {
    "name": "ipython",
    "version": 3
   },
   "file_extension": ".py",
   "mimetype": "text/x-python",
   "name": "python",
   "nbconvert_exporter": "python",
   "pygments_lexer": "ipython3",
   "version": "3.6.4"
  }
 },
 "nbformat": 4,
 "nbformat_minor": 2
}
