{
 "cells": [
  {
   "cell_type": "code",
   "execution_count": 1,
   "metadata": {},
   "outputs": [
    {
     "name": "stderr",
     "output_type": "stream",
     "text": [
      "/home/igor/anaconda3/envs/yadro/lib/python3.6/importlib/_bootstrap.py:219: RuntimeWarning: compiletime version 3.4 of module '_catboost' does not match runtime version 3.6\n",
      "  return f(*args, **kwds)\n"
     ]
    }
   ],
   "source": [
    "from modelgym.models import CtBClassifier, LGBMClassifier\n",
    "from modelgym.utils import XYCDataset\n",
    "from modelgym.trainers import TpeTrainer\n",
    "from modelgym.metrics import Accuracy\n",
    "from modelgym.report import Report\n",
    "from modelgym.utils import ModelSpace\n",
    "from hyperopt import hp\n",
    "import numpy as np\n",
    "from sklearn.datasets import load_breast_cancer\n",
    "from pathlib import Path\n",
    "from wonderlandClient import ModelGymClient\n",
    "from skopt.space import Integer, Categorical, Real\n",
    "from modelgym.trainers import TpeTrainer, GPTrainer, RFTrainer, RandomTrainer\n",
    "from modelgym.metrics import Accuracy, RocAuc, F1\n",
    "import math\n"
   ]
  },
  {
   "cell_type": "code",
   "execution_count": 2,
   "metadata": {},
   "outputs": [
    {
     "name": "stdout",
     "output_type": "stream",
     "text": [
      "connect_to: lambda-yadro-cpu1.westeurope.cloudapp.azure.com:50051\n",
      "local_project_root: ~/repo-storage/test\n",
      "user: imusinov\n",
      "azurefs_acc_name: mylake\n",
      "azurefs_acc_key: nTYA+KhHEIuy2DVyG8uGuNev3qKGJ8Qm975hCkMgm+hGc7AW17RhnygFTKSNho5Iu8s3zwYcqxgrmte0tROBog==\n",
      "azurefs_share: myshare\n",
      "docker_image: musinov/training-image\n",
      "client_cert: ~/.wonder/credentials/imusinov.crt\n",
      "client_key: ~/.wonder/credentials/imusinov.key\n",
      "ca_cert: ~/.wonder/credentials/wonderland.crt\n",
      "max_msg_size_megabytes: 515\n"
     ]
    }
   ],
   "source": [
    "client = ModelGymClient()\n",
    "for param, val in client.config.items():\n",
    "        print(param+\":\", val)"
   ]
  },
  {
   "cell_type": "code",
   "execution_count": 3,
   "metadata": {},
   "outputs": [
    {
     "data": {
      "text/plain": [
       "<modelgym.utils.dataset.XYCDataset at 0x7f59ec68b780>"
      ]
     },
     "execution_count": 3,
     "metadata": {},
     "output_type": "execute_result"
    }
   ],
   "source": [
    "from wonderlandClient import generate_data\n",
    "tmp_file_path = Path(\"~/repo-storage-test/test/DATA/temp_data_145earu.csv\").expanduser()\n",
    "generate_data(tmp_file_path)"
   ]
  },
  {
   "cell_type": "code",
   "execution_count": 4,
   "metadata": {},
   "outputs": [],
   "source": [
    "data = load_breast_cancer()\n",
    "y = np.array([data.target])\n",
    "dataset = np.concatenate((data.data, y.T), axis=1)\n",
    "n_features = len(data.data[0])\n",
    "file = Path(\"~/repo-storage/test/DATA/temp_data_145earu.csv\").expanduser()\n",
    "np.savetxt(file, dataset,\n",
    "           fmt='%.2f',\n",
    "           header=','.join([str(x) for x in range(n_features)] + ['y']),\n",
    "           delimiter=',')"
   ]
  },
  {
   "cell_type": "code",
   "execution_count": 5,
   "metadata": {},
   "outputs": [],
   "source": [
    "catboost_space = [Integer(low=100, high=500, name='iterations'),\n",
    " Integer(low=1, high=11, name='depth'),\n",
    " Real(low=math.exp(-5), high=1e-1, prior='log-uniform', name='learning_rate'),\n",
    " Real(low=0, high=1, prior='uniform', transform='identity', name='rsm'),\n",
    " Categorical(categories=('Newton', 'Gradient'), prior=None, name='leaf_estimation_method'),\n",
    " Integer(low=1, high=10, name='l2_leaf_reg'),\n",
    " Real(low=0, high=2, prior='uniform', transform='identity', name='bagging_temperature')]\n",
    "\n",
    "model_ctb = ModelSpace(CtBClassifier,\n",
    "                   space=catboost_space,\n",
    "                   space_update=False)"
   ]
  },
  {
   "cell_type": "code",
   "execution_count": 6,
   "metadata": {},
   "outputs": [],
   "source": [
    "lgbm_space = [Real(low=math.exp(-7), high=1, prior='log-uniform', name='learning_rate'),\n",
    "                 Integer(low=round(math.exp(1)), high=round(math.exp(7)), name='num_leaves'),\n",
    "                 Real(low=0.5, high=1, name='feature_fraction'),\n",
    "                 Real(low=0.5, high=1, name='bagging_fraction'),\n",
    "                 Integer(low=1, high=round(math.exp(6)), name='min_data_in_leaf'),\n",
    "                 Real(low=math.exp(-16), high=math.exp(5), prior='log-uniform', name='min_sum_hessian_in_leaf'),\n",
    "                 Real(low=math.exp(-16), high=math.exp(2), prior='log-uniform', name='lambda_l1'),\n",
    "                 Real(low=math.exp(-16), high=math.exp(2), prior='log-uniform', name='lambda_l2')]\n",
    "\n",
    "model_lgbm = ModelSpace(LGBMClassifier,\n",
    "                   space=lgbm_space,\n",
    "                   space_update=False)\n",
    "trainer = GPTrainer(model_ctb)"
   ]
  },
  {
   "cell_type": "code",
   "execution_count": 7,
   "metadata": {},
   "outputs": [
    {
     "data": {
      "application/vnd.jupyter.widget-view+json": {
       "model_id": "6fb9f024c9b54095832763970e0e0400",
       "version_major": 2,
       "version_minor": 0
      },
      "text/plain": [
       "VBox(children=(HTML(value=''), IntProgress(value=0, max=1)))"
      ]
     },
     "metadata": {},
     "output_type": "display_data"
    }
   ],
   "source": [
    "best = trainer.crossval_optimize_params(RocAuc(), tmp_file_path, cv=3,\n",
    "                                        opt_evals=1, metrics=[RocAuc()],\n",
    "                                        verbose=False, workers=1, client=client, timeout=400)"
   ]
  },
  {
   "cell_type": "code",
   "execution_count": 8,
   "metadata": {},
   "outputs": [
    {
     "name": "stdout",
     "output_type": "stream",
     "text": [
      "{'CtBClassifier': {'result': {'output': {'loss': -0.9681521188313479, 'metric_cv_results': [{'roc_auc': 0.9698274315645965}, {'roc_auc': 0.9671965317919076}, {'roc_auc': 0.9674323931375399}], 'params': {'iterations': 381, 'depth': 2, 'learning_rate': 0.018622844836670368, 'rsm': 0.1456433953975174, 'leaf_estimation_method': 'Newton', 'l2_leaf_reg': 9, 'bagging_temperature': 0.1169743718169021}, 'status': 'ok', 'loss_variance': 0.001188531926153522}, 'result_model_path': PosixPath('/home/igor/repo-storage/test/imusinov/model-fU8oXtbY8edW/model.pickle')}, 'model_space': <modelgym.utils.model_space.ModelSpace object at 0x7f59b84d4ba8>}}\n"
     ]
    }
   ],
   "source": [
    "print(trainer.get_best_results())"
   ]
  },
  {
   "cell_type": "code",
   "execution_count": 9,
   "metadata": {},
   "outputs": [
    {
     "data": {
      "text/plain": [
       "<modelgym.models.catboost_model.CtBClassifier at 0x7f59b9d36b70>"
      ]
     },
     "execution_count": 9,
     "metadata": {},
     "output_type": "execute_result"
    }
   ],
   "source": [
    "best_model = trainer.get_best_model()\n",
    "best_model"
   ]
  }
 ],
 "metadata": {
  "kernelspec": {
   "display_name": "Python 3",
   "language": "python",
   "name": "python3"
  },
  "language_info": {
   "codemirror_mode": {
    "name": "ipython",
    "version": 3
   },
   "file_extension": ".py",
   "mimetype": "text/x-python",
   "name": "python",
   "nbconvert_exporter": "python",
   "pygments_lexer": "ipython3",
   "version": "3.6.4"
  }
 },
 "nbformat": 4,
 "nbformat_minor": 2
}
